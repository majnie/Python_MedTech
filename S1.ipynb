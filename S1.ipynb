{
  "nbformat": 4,
  "nbformat_minor": 0,
  "metadata": {
    "colab": {
      "provenance": [],
      "include_colab_link": true
    },
    "kernelspec": {
      "name": "python3",
      "display_name": "Python 3"
    },
    "language_info": {
      "name": "python"
    }
  },
  "cells": [
    {
      "cell_type": "markdown",
      "metadata": {
        "id": "view-in-github",
        "colab_type": "text"
      },
      "source": [
        "<a href=\"https://colab.research.google.com/github/majnie/Python_MedTech/blob/main/S1.ipynb\" target=\"_parent\"><img src=\"https://colab.research.google.com/assets/colab-badge.svg\" alt=\"Open In Colab\"/></a>"
      ]
    },
    {
      "cell_type": "markdown",
      "metadata": {
        "id": "-JEEAxZUVwKL"
      },
      "source": [
        "# Introduction to Python and Data Science"
      ]
    },
    {
      "cell_type": "markdown",
      "metadata": {
        "id": "RL6NLHIms3SF"
      },
      "source": [
        "**Overview of the session**\n",
        "\n",
        "1. Introduction to Google Colab\n",
        "2. Introduction to Python fundamentals"
      ]
    },
    {
      "cell_type": "markdown",
      "source": [
        "## Introduction to Google Colab\n",
        "\n",
        "Google Colab is a free online platform that allows you to write and run Python code in your browser.\n",
        "\n",
        "What you are seeing here is the Jupyter Notebook Interface, it combines Text cells you see here and Code cells you will meet below.\n",
        "\n",
        "To run code in this notebook, first connect to a runtime, you will find the \"Connect\" button on the right of the top bar, this will only need to be done once. To run a specific code cell, select the cell and press the play button on the left; alternatively, use Ctrl+Enter or Cmd+Enter\n",
        "\n",
        "It is useful to show the line numbers of your code cell, especially when debugging. Tools -> Settings -> Editor -> show line numbers , or Ctrl+M+L"
      ],
      "metadata": {
        "id": "jYjBUoIr8MiG"
      }
    },
    {
      "cell_type": "markdown",
      "source": [
        "## Introduction to core Python"
      ],
      "metadata": {
        "id": "bDXO-yKVySPO"
      }
    },
    {
      "cell_type": "markdown",
      "metadata": {
        "id": "vSYg-08Xo2-Q"
      },
      "source": [
        "### Data and Variables"
      ]
    },
    {
      "cell_type": "markdown",
      "metadata": {
        "id": "fA52eH4RWZ5d"
      },
      "source": [
        "Data can be stored in variables, e.g. `x = 4`, `y = \"John\"`, `z = 29.4`.\n",
        "\n",
        "There are various types of data that you can use in Python, depending on your use case. The above examples are an integer, a string and a float, respectively.\n",
        "\n",
        "If we want to store a value, we assign it to a variable as follows:\n",
        "\n",
        "`x = 4`\n",
        "\n",
        "If we want to have Python tell us the value of a variable, we use the **print** function. For example:\n",
        "\n"
      ]
    },
    {
      "cell_type": "code",
      "metadata": {
        "id": "7tDJRLGwVjHE",
        "outputId": "2b9c297e-229f-4b46-a465-569e7cfbc642",
        "colab": {
          "base_uri": "https://localhost:8080/"
        }
      },
      "source": [
        "x = 4\n",
        "y = \"hello\"\n",
        "z = 3.5\n",
        "print(x)\n",
        "print(y)\n",
        "print(z)"
      ],
      "execution_count": null,
      "outputs": [
        {
          "output_type": "stream",
          "name": "stdout",
          "text": [
            "4\n",
            "hello\n",
            "3.5\n"
          ]
        }
      ]
    },
    {
      "cell_type": "code",
      "metadata": {
        "id": "eMd5tQJOD4G2",
        "outputId": "922f805c-dd09-48b5-e92a-4da168a933d8",
        "colab": {
          "base_uri": "https://localhost:8080/"
        }
      },
      "source": [
        "print (\"x\")"
      ],
      "execution_count": null,
      "outputs": [
        {
          "output_type": "stream",
          "name": "stdout",
          "text": [
            "x\n"
          ]
        }
      ]
    },
    {
      "cell_type": "markdown",
      "metadata": {
        "id": "fuX-K-6aab0r"
      },
      "source": [
        "What happens if we type in print(\"x\")? What does this give us and why is it different to what we did above?\n",
        "\n",
        "Now say that we wish to make a start on our personal assistant and have it greet us.\n",
        "\n",
        "Python allows us to **concatenate** (add) strings together to form bigger strings! We do this using the \"+\" operator. For example:\n",
        "```\n",
        "first_name = \"Kerem\"\n",
        "\n",
        "last_name = \"Akbulut\"\n",
        "\n",
        "print(first_name + last_name)\n",
        "```\n",
        "Task: Print out your first and last name using the format above"
      ]
    },
    {
      "cell_type": "code",
      "metadata": {
        "id": "Rv3YFC9EWZBW"
      },
      "source": [
        "# your answer\n"
      ],
      "execution_count": null,
      "outputs": []
    },
    {
      "cell_type": "markdown",
      "metadata": {
        "id": "DPpDwb7u5ArY"
      },
      "source": [
        "Strings **have** quotation marks!"
      ]
    },
    {
      "cell_type": "markdown",
      "metadata": {
        "id": "o7GYOA8EFJ2k"
      },
      "source": [
        "you can't mix data types of different forms so you need to convert the int to str in order to add them up"
      ]
    },
    {
      "cell_type": "code",
      "metadata": {
        "id": "p7ijN2ER5bC5",
        "colab": {
          "base_uri": "https://localhost:8080/"
        },
        "outputId": "b702d484-6420-4303-9581-28dcc52994cc"
      },
      "source": [
        "a = \"70\"\n",
        "\n",
        "p = \"500\"\n",
        "\n",
        "print(35 + int(a))"
      ],
      "execution_count": null,
      "outputs": [
        {
          "output_type": "stream",
          "name": "stdout",
          "text": [
            "105\n"
          ]
        }
      ]
    },
    {
      "cell_type": "markdown",
      "metadata": {
        "id": "07dm8vcQjj0g"
      },
      "source": [
        "When we concatenate in Python, we need to be very careful about not mixing data types. What happens if we type the following three lines of code?\n",
        "```\n",
        "a = 6\n",
        "\n",
        "p = 5\n",
        "\n",
        "print(\"I have \" + a + \" apples and \" + p + \"pears.\")\n",
        "```\n",
        "\n",
        "\n",
        "If we want to convert an integer **a** to a string, then we do **str(a)**.\n",
        "\n",
        "To do this properly, we do:\n",
        "```\n",
        "a = 6\n",
        "\n",
        "p = 5\n",
        "\n",
        "print(\"I have \" + str(a) + \" apples and \" + str(p) + \"pears.\")\n",
        "```"
      ]
    },
    {
      "cell_type": "markdown",
      "metadata": {
        "id": "rHP6ySnCvP_n"
      },
      "source": [
        "### Lists\n",
        "\n",
        "These are very important Python data structures. They can store all kinds of different data structures. Examples:\n"
      ]
    },
    {
      "cell_type": "code",
      "source": [
        "x = [\"apples\", \"bananas\", \"strawberries\", \"grapes\"]\n",
        "\n",
        "y = [4, 5, 6, 7, 2030]\n",
        "\n",
        "z = [\"hi\", 78]"
      ],
      "metadata": {
        "id": "Az2df7UtXgns"
      },
      "execution_count": null,
      "outputs": []
    },
    {
      "cell_type": "markdown",
      "source": [
        "Lists are very versatile. You can access a part of a list by **slicing**. To access the elements of a list, you make use of **indexing**. In Python, the first element of a list has index **0**, the second one index **1** and so on.\n",
        "\n",
        "If we wish to access the first and third elements of a list x, we do:  \n"
      ],
      "metadata": {
        "id": "DM29o5hfGTOp"
      }
    },
    {
      "cell_type": "code",
      "source": [
        "print(x[0])\n",
        "\n",
        "print(x[2])"
      ],
      "metadata": {
        "colab": {
          "base_uri": "https://localhost:8080/"
        },
        "id": "hSnFFUAxGGrr",
        "outputId": "00da0742-e26b-4745-c1ff-c867a5384550"
      },
      "execution_count": null,
      "outputs": [
        {
          "output_type": "stream",
          "name": "stdout",
          "text": [
            "apples\n",
            "strawberries\n"
          ]
        }
      ]
    },
    {
      "cell_type": "markdown",
      "source": [
        "`print(x[1:3])` means we will be printing all the elements from index 1 **up to but not including** index 3."
      ],
      "metadata": {
        "id": "GrZP29UzGkma"
      }
    },
    {
      "cell_type": "code",
      "source": [
        "print(x[1:3])"
      ],
      "metadata": {
        "id": "PGU-ux8rGLrB",
        "outputId": "efbee786-ed7f-4855-c6c6-21b8439132e8",
        "colab": {
          "base_uri": "https://localhost:8080/"
        }
      },
      "execution_count": null,
      "outputs": [
        {
          "output_type": "stream",
          "name": "stdout",
          "text": [
            "['bananas', 'strawberries']\n"
          ]
        }
      ]
    },
    {
      "cell_type": "markdown",
      "metadata": {
        "id": "Ns6yS1OFONNf"
      },
      "source": [
        "You can use negative to work your way back from the end"
      ]
    },
    {
      "cell_type": "code",
      "metadata": {
        "id": "JV8QkAsXOIC_",
        "colab": {
          "base_uri": "https://localhost:8080/"
        },
        "outputId": "b6b236ec-318a-425c-d2e3-47902bb7c707"
      },
      "source": [
        "print(x[-2])"
      ],
      "execution_count": null,
      "outputs": [
        {
          "output_type": "stream",
          "name": "stdout",
          "text": [
            "strawberries\n"
          ]
        }
      ]
    },
    {
      "cell_type": "markdown",
      "metadata": {
        "id": "Deiu_jMXOWdj"
      },
      "source": [
        "no number after the colon means that the whole list can be printed out"
      ]
    },
    {
      "cell_type": "code",
      "metadata": {
        "id": "3iGrqWJcOSXs",
        "colab": {
          "base_uri": "https://localhost:8080/"
        },
        "outputId": "6acb1891-8f2d-4572-b733-6d84f4f8109d"
      },
      "source": [
        "print(x[:2])"
      ],
      "execution_count": null,
      "outputs": [
        {
          "output_type": "stream",
          "name": "stdout",
          "text": [
            "['apples', 'bananas']\n"
          ]
        }
      ]
    },
    {
      "cell_type": "markdown",
      "metadata": {
        "id": "gzFWyUbKzEtt"
      },
      "source": [
        "**Task:** A patient comes into a COVID ward with a number of symptoms. Using list slicing, print the symptoms that are most relevant to a COVID ward.\n",
        "\n",
        "\n",
        "\n"
      ]
    },
    {
      "cell_type": "code",
      "source": [
        "# your answer\n",
        "list_of_symptoms = [\"cough\", \"fever\", \"loss of smell\", \"knee pain\", \"headache\", \"loss of taste\", \"excessive sweating\", \"feeling hungry\"]\n",
        "\n",
        "print(____)"
      ],
      "metadata": {
        "id": "cMhYYRf37gvs"
      },
      "execution_count": null,
      "outputs": []
    },
    {
      "cell_type": "markdown",
      "source": [
        "### List methods\n",
        "We can operate on the whole list at once using a method (similar to functions which we will meet next session), for example, reverse the order of the list with `.reverse()`"
      ],
      "metadata": {
        "id": "nBjhPaVlDd-r"
      }
    },
    {
      "cell_type": "code",
      "source": [
        "list_of_symptoms = [\"cough\", \"fever\", \"loss of smell\", \"knee pain\", \"headache\", \"loss of taste\", \"excessive sweating\", \"feeling hungry\"]\n",
        "\n",
        "# print before applying reverse\n",
        "print(list_of_symptoms)\n",
        "\n",
        "# print after applying reverse\n",
        "list_of_symptoms.reverse()\n",
        "print(list_of_symptoms)\n"
      ],
      "metadata": {
        "colab": {
          "base_uri": "https://localhost:8080/"
        },
        "id": "v5D6XkPmEFRF",
        "outputId": "1593671f-b652-4808-c15c-4c3332c492e0"
      },
      "execution_count": null,
      "outputs": [
        {
          "output_type": "stream",
          "name": "stdout",
          "text": [
            "['cough', 'fever', 'loss of smell', 'knee pain', 'headache', 'loss of taste', 'excessive sweating', 'feeling hungry']\n",
            "['feeling hungry', 'excessive sweating', 'loss of taste', 'headache', 'knee pain', 'loss of smell', 'fever', 'cough']\n"
          ]
        }
      ]
    },
    {
      "cell_type": "markdown",
      "source": [
        "**Task:** Apply methods for the following changes:\n",
        "- Sort the list of symptoms in decending alphabetical order\n",
        "- Add an element \"dizziness\" to the end of the symptoms list"
      ],
      "metadata": {
        "id": "XOCTdl1oFXzt"
      }
    },
    {
      "cell_type": "code",
      "source": [
        "# your answer\n",
        "list_of_symptoms = [\"cough\", \"fever\", \"loss of smell\", \"knee pain\", \"headache\", \"loss of taste\", \"excessive sweating\", \"feeling hungry\"]\n",
        "\n",
        "# sort in decending alphabetical order\n",
        "list_of_symptoms.____\n",
        "\n",
        "print(list_of_symptoms)\n",
        "\n",
        "# add element \"dizziness\" to the end of the list\n",
        "list_of_symptoms.____\n",
        "\n",
        "# You should have\n",
        "# ['loss of taste', 'loss of smell', 'knee pain', 'headache', 'fever', 'feeling hungry', 'excessive sweating', 'cough', 'dizziness']\n",
        "print(list_of_symptoms)"
      ],
      "metadata": {
        "colab": {
          "base_uri": "https://localhost:8080/"
        },
        "id": "r1kD0NK4FXAN",
        "outputId": "073cf884-8263-4e16-e1b6-000287ad3c66"
      },
      "execution_count": null,
      "outputs": [
        {
          "output_type": "stream",
          "name": "stdout",
          "text": [
            "['loss of taste', 'loss of smell', 'knee pain', 'headache', 'fever', 'feeling hungry', 'excessive sweating', 'cough', 'dizziness']\n"
          ]
        }
      ]
    },
    {
      "cell_type": "markdown",
      "source": [
        "### Dictionaries\n",
        "Dictionaries in Python are collections of items that are stored in a pair format of a key and a value. Think of a dictionary as a custom index in a real-world dictionary. Instead of looking up words by their alphabetical order, you can look them up by any unique 'key' you choose.\n"
      ],
      "metadata": {
        "id": "7QnshXeqXxi3"
      }
    },
    {
      "cell_type": "code",
      "source": [
        "# Here's the basic syntax of a dictionary:\n",
        "my_dict = {\n",
        "  \"key1\": \"value1\",\n",
        "  \"key2\": \"value2\",\n",
        "  \"key3\": \"value3\"\n",
        "}"
      ],
      "metadata": {
        "id": "XSHdfo-QZPkh"
      },
      "execution_count": null,
      "outputs": []
    },
    {
      "cell_type": "code",
      "source": [
        "# To access the value of of a key:\n",
        "ages = {\n",
        "  \"Alice\": 25,\n",
        "  \"Bob\": 30,\n",
        "  \"Charlie\": 35\n",
        "}\n",
        "\n",
        "ages['Alice']"
      ],
      "metadata": {
        "colab": {
          "base_uri": "https://localhost:8080/"
        },
        "id": "OfjyzfqTZVuC",
        "outputId": "da609210-73a2-4d2e-a509-c08a1a9c89a0"
      },
      "execution_count": null,
      "outputs": [
        {
          "output_type": "execute_result",
          "data": {
            "text/plain": [
              "25"
            ]
          },
          "metadata": {},
          "execution_count": 10
        }
      ]
    },
    {
      "cell_type": "markdown",
      "metadata": {
        "id": "sUZtcuLeqI-K"
      },
      "source": [
        "### Conditional Statements\n",
        "\n",
        "Sometimes we want to change what we do depending on a specific condition. For this, we use `if` statements! We use `==` to check equality. Notice that we only use `=` when we assign to a variable."
      ]
    },
    {
      "cell_type": "code",
      "metadata": {
        "id": "E4fBBsNvibBL"
      },
      "source": [
        "day = \"Monday\"\n",
        "if day == \"Monday\":\n",
        "  print(\"Oh no, Monday is the worst.\")"
      ],
      "execution_count": null,
      "outputs": []
    },
    {
      "cell_type": "markdown",
      "metadata": {
        "id": "XbCHdDdkqz7D"
      },
      "source": [
        "We can add more conditions using `elif` (else if) and `else`."
      ]
    },
    {
      "cell_type": "code",
      "metadata": {
        "colab": {
          "base_uri": "https://localhost:8080/"
        },
        "id": "SxlotW7wqwUq",
        "outputId": "dbec6f2e-34ed-416d-fce4-522c7adb16d5"
      },
      "source": [
        "name = \"Faye\"\n",
        "if name == \"John\":\n",
        "  print(\"Hi John, did you watch the game today?\")\n",
        "elif name == \"Mary\":\n",
        "  print(\"Hi Mary, how was your test today?\")\n",
        "elif name == \"Hannah\":\n",
        "  print(\"Hi Hannah, what are your plans for today?\")\n",
        "else:\n",
        "  print(\"Hi! My name is JARVIS! How are you?\")"
      ],
      "execution_count": null,
      "outputs": [
        {
          "output_type": "stream",
          "name": "stdout",
          "text": [
            "Hi! My name is JARVIS! How are you?\n"
          ]
        }
      ]
    },
    {
      "cell_type": "markdown",
      "metadata": {
        "id": "dTulH4kSsXY2"
      },
      "source": [
        "**Task:** Write a small script using if, elif and else conditional statements that gives the patient advice depending on the symptoms they have.\n",
        "\n",
        "If they have a \"cold\", they should \"Rest and drink lots of water\". If they have a \"sore throat\", they should \"Gargle with warm, salt water.\" If they have a \"headache\", they should \"Take paracetamol\". If they have anything else, they should see a doctor."
      ]
    },
    {
      "cell_type": "code",
      "metadata": {
        "id": "_WLvsHwLj-QP"
      },
      "source": [
        "# your answer\n"
      ],
      "execution_count": null,
      "outputs": []
    },
    {
      "cell_type": "markdown",
      "metadata": {
        "id": "iVfAoZmpOXZ9"
      },
      "source": [
        "### \"For\" Loops\n",
        "\n",
        "Loops allow you to **iterate** through items in a list.\n",
        "\n",
        "For example:     "
      ]
    },
    {
      "cell_type": "code",
      "metadata": {
        "colab": {
          "base_uri": "https://localhost:8080/"
        },
        "id": "WdqqwtRMvnvF",
        "outputId": "75cbe02b-c2c0-4e5f-cf09-2eae97983e43",
        "collapsed": true
      },
      "source": [
        "numbers = [2, 4, 6, 8]\n",
        "\n",
        "for number in numbers:\n",
        "    print(number)"
      ],
      "execution_count": null,
      "outputs": [
        {
          "output_type": "stream",
          "name": "stdout",
          "text": [
            "2\n",
            "4\n",
            "6\n",
            "8\n"
          ]
        }
      ]
    },
    {
      "cell_type": "markdown",
      "metadata": {
        "id": "cEZfZfBIPKYL"
      },
      "source": [
        "the x is just a dummy variable and in the example below the person is also just a dummy variable - allows us to do things efficiently, don't have to write out the same code over and over"
      ]
    },
    {
      "cell_type": "markdown",
      "metadata": {
        "id": "KcrHjDqXXsrk"
      },
      "source": [
        "We can even iterate through a list of strings!\n",
        "\n",
        "**Task:** Write a for loop that iterates through a list of people who are present and greets them.\n"
      ]
    },
    {
      "cell_type": "code",
      "metadata": {
        "id": "yLRiYopEP-_i"
      },
      "source": [
        "# your answer\n"
      ],
      "execution_count": null,
      "outputs": []
    },
    {
      "cell_type": "markdown",
      "metadata": {
        "id": "Pd8BZFUUde0R"
      },
      "source": [
        "### \"While\" Loops\n",
        "\n",
        "These are indefinite loop in which the command keeps happening until something changes. Once a specific condition is satisfied, we proceed with our code.\n",
        "\n",
        "**WARNING:** Make sure that it is possible for the specific condition to be satisfied, otherwise your code will be stuck in the loop forever.\n",
        "\n",
        "**Example:**\n"
      ]
    },
    {
      "cell_type": "code",
      "metadata": {
        "id": "58E4_2chdDbC",
        "colab": {
          "base_uri": "https://localhost:8080/"
        },
        "outputId": "27377059-bb52-4346-a023-4853b05dba7d"
      },
      "source": [
        "age = 0\n",
        "while age < 18:\n",
        "  print(\"You are not allowed to drive yet as you are \" + str(age) + \" years old!\")\n",
        "  age = age + 1\n",
        "print(\"You are now old enough to drive as you are \" + str(age) + \" years old.\")"
      ],
      "execution_count": null,
      "outputs": [
        {
          "output_type": "stream",
          "name": "stdout",
          "text": [
            "You are not allowed to drive yet as you are 0 years old!\n",
            "You are not allowed to drive yet as you are 1 years old!\n",
            "You are not allowed to drive yet as you are 2 years old!\n",
            "You are not allowed to drive yet as you are 3 years old!\n",
            "You are not allowed to drive yet as you are 4 years old!\n",
            "You are not allowed to drive yet as you are 5 years old!\n",
            "You are not allowed to drive yet as you are 6 years old!\n",
            "You are not allowed to drive yet as you are 7 years old!\n",
            "You are not allowed to drive yet as you are 8 years old!\n",
            "You are not allowed to drive yet as you are 9 years old!\n",
            "You are not allowed to drive yet as you are 10 years old!\n",
            "You are not allowed to drive yet as you are 11 years old!\n",
            "You are not allowed to drive yet as you are 12 years old!\n",
            "You are not allowed to drive yet as you are 13 years old!\n",
            "You are not allowed to drive yet as you are 14 years old!\n",
            "You are not allowed to drive yet as you are 15 years old!\n",
            "You are not allowed to drive yet as you are 16 years old!\n",
            "You are not allowed to drive yet as you are 17 years old!\n",
            "You are now old enough to drive as you are 18 years old.\n"
          ]
        }
      ]
    },
    {
      "cell_type": "markdown",
      "metadata": {
        "id": "f2pa4Q-MS_8y"
      },
      "source": [
        "`age += 1` is shorthand for `age = age + 1`"
      ]
    },
    {
      "cell_type": "markdown",
      "metadata": {
        "id": "dhbiBGH8iuWm"
      },
      "source": [
        "**Task:** (Based on [Leetcode 88](https://leetcode.com/problems/merge-sorted-array/description/)): Merge Sorted List\n",
        "\n",
        "You have two lists in non-decreasing order\n",
        "- `nums1` with length `m`\n",
        "- `nums2` with length `n`\n",
        "\n",
        "Your task is to create a merged list sorted in non-decreasing order, you should operate directly on `nums1`. To accomodate for this, `nums1` has length `m+n`, where the integers have been padded with `n` amount of zeros.\n",
        "\n",
        "Example 1:\n",
        "- Input: nums1 = [1,2,3,0,0,0], m = 3, nums2 = [2,5,6], n = 3\n",
        "- Output: [1,2,2,3,5,6]\n",
        "- Explanation: The arrays we are merging are [1,2,3] and [2,5,6].\n",
        "The result of the merge is [1,2,2,3,5,6]\n",
        "\n",
        "Example 2:\n",
        "- Input: nums1 = [1], m = 1, nums2 = [], n = 0\n",
        "- Output: [1]\n",
        "- Explanation: The arrays we are merging are [1] and [].\n",
        "The result of the merge is [1].\n",
        "\n",
        "Example 3:\n",
        "- Input: nums1 = [0], m = 0, nums2 = [1], n = 1\n",
        "- Output: [1]\n",
        "- Explanation: The arrays we are merging are [] and [1].\n",
        "The result of the merge is [1].\n",
        "Note that because m = 0, there are no elements in nums1. The 0 is only there to ensure the merge result can fit in nums1.\n"
      ]
    },
    {
      "cell_type": "code",
      "metadata": {
        "id": "VwDUfACFiwdx"
      },
      "source": [
        "# This is a function, we will describe them in more detail next session\n",
        "# write your code by completing the blank\n",
        "\n",
        "# If you have IndentationError, check that your code is aligned with four spaces / tab\n",
        "\n",
        "def solution(nums1, m, nums2, n):\n",
        "    # your answer\n",
        "    ____\n",
        "    return nums1"
      ],
      "execution_count": null,
      "outputs": []
    },
    {
      "cell_type": "code",
      "metadata": {
        "id": "t0k-bTl7eONe"
      },
      "source": [
        "# Test example 1\n",
        "# Should be\n",
        "s1 = solution([1,2,3,0,0,0], 3, [2,5,6], 3)\n",
        "\n",
        "print(\"Your merged list is\")\n",
        "print(s1)\n",
        "\n",
        "if s1 == [1,2,2,3,5,6]:\n",
        "  print(\"Test passed\")\n",
        "else:\n",
        "  print(\"Test failed\")"
      ],
      "execution_count": null,
      "outputs": []
    },
    {
      "cell_type": "code",
      "source": [
        "# Test example 2\n",
        "s2 = solution([1], 1, [], 0)\n",
        "\n",
        "print(\"Your merged list is\")\n",
        "print(s2)\n",
        "\n",
        "if s2 == [1]:\n",
        "  print(\"Test passed\")\n",
        "else:\n",
        "  print(\"Test failed\")"
      ],
      "metadata": {
        "id": "d7HcvBfAALFL"
      },
      "execution_count": null,
      "outputs": []
    },
    {
      "cell_type": "code",
      "source": [
        "# Test example 3\n",
        "s3 = solution([0], 0, [1], 1)\n",
        "\n",
        "print(\"Your merged list is\")\n",
        "print(s3)\n",
        "\n",
        "if s3 == [1]:\n",
        "  print(\"Test passed\")\n",
        "else:\n",
        "  print(\"Test failed\")"
      ],
      "metadata": {
        "id": "8WAOhLJjJSDR"
      },
      "execution_count": null,
      "outputs": []
    },
    {
      "cell_type": "code",
      "source": [
        "# Test example 4\n",
        "s4 = solution([8,9,0,0], 2, [1,2], 2)\n",
        "\n",
        "print(\"Your merged list is\")\n",
        "print(s4)\n",
        "\n",
        "if s4 == [1,2,8,9]:\n",
        "  print(\"Test passed\")\n",
        "else:\n",
        "  print(\"Test failed\")"
      ],
      "metadata": {
        "id": "Z4e8ebPkKYaF"
      },
      "execution_count": null,
      "outputs": []
    },
    {
      "cell_type": "code",
      "source": [],
      "metadata": {
        "id": "Wka28Nx4Kjwv"
      },
      "execution_count": null,
      "outputs": []
    }
  ]
}